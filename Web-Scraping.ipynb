{
 "cells": [
  {
   "cell_type": "code",
   "execution_count": 20,
   "id": "c622f9e5-0e55-44fe-a363-e611c5733eef",
   "metadata": {},
   "outputs": [],
   "source": [
    "import requests\n",
    "from bs4 import BeautifulSoup"
   ]
  },
  {
   "cell_type": "code",
   "execution_count": 21,
   "id": "1fa1a649-f4ad-4b2a-b82b-abcdd3723b17",
   "metadata": {},
   "outputs": [],
   "source": [
    "ulr=\"https://editorial.rottentomatoes.com/guide/best-horror-movies-of-all-time/\""
   ]
  },
  {
   "cell_type": "code",
   "execution_count": 22,
   "id": "f6ae0863-2250-4687-bab1-714c1fff6fcd",
   "metadata": {},
   "outputs": [
    {
     "data": {
      "text/plain": [
       "200"
      ]
     },
     "execution_count": 22,
     "metadata": {},
     "output_type": "execute_result"
    }
   ],
   "source": [
    "response=requests.get(ulr)\n",
    "response.status_code"
   ]
  },
  {
   "cell_type": "code",
   "execution_count": 23,
   "id": "58b0575a-c79f-43e7-8639-e6e82e9d415b",
   "metadata": {},
   "outputs": [],
   "source": [
    "soup=BeautifulSoup(response.content,'lxml') #parses"
   ]
  },
  {
   "cell_type": "code",
   "execution_count": 24,
   "id": "2613a644-a42f-49f5-a834-bdc7b9774c59",
   "metadata": {},
   "outputs": [],
   "source": [
    "divs=soup.find_all('div',class_=\"row countdown-item\")"
   ]
  },
  {
   "cell_type": "code",
   "execution_count": 25,
   "id": "b0b92189-a260-457b-9cfd-829d7e6d81b0",
   "metadata": {},
   "outputs": [
    {
     "data": {
      "text/plain": [
       "<h2>\n",
       "<a href=\"https://www.rottentomatoes.com/m/jaws\">Jaws</a> <span class=\"subtle start-year\">(1975)</span>\n",
       "<br/>\n",
       "<img alt=\"Tomatometer icon\" class=\"icon tiny\" src=\"https://images.fandango.com/cms/assets/c6672520-d359-11ea-a15f-bdf29fa24277--certified-fresh.png\"/> <span class=\"tMeterScore\" style=\"margin-right: 10px;\">97%</span>\n",
       "</h2>"
      ]
     },
     "execution_count": 25,
     "metadata": {},
     "output_type": "execute_result"
    }
   ],
   "source": [
    "divs[0].find('h2')"
   ]
  },
  {
   "cell_type": "code",
   "execution_count": 26,
   "id": "40dcd6d6-5100-493e-abba-748834f0b7c6",
   "metadata": {},
   "outputs": [],
   "source": [
    "headings=[div.find('h2') for div in divs]"
   ]
  },
  {
   "cell_type": "code",
   "execution_count": 30,
   "id": "b4d09c20-1d93-4ab1-b0b9-17d520a8233d",
   "metadata": {},
   "outputs": [],
   "source": [
    "movie_names=[heading.find('a').text for heading in headings]"
   ]
  },
  {
   "cell_type": "code",
   "execution_count": 25,
   "id": "2c50774a-b77f-4133-a105-d3ad1cb6cf9a",
   "metadata": {},
   "outputs": [
    {
     "data": {
      "text/plain": [
       "'Let the Right One In'"
      ]
     },
     "execution_count": 25,
     "metadata": {},
     "output_type": "execute_result"
    }
   ],
   "source": [
    "movie_names[1]"
   ]
  },
  {
   "cell_type": "code",
   "execution_count": 34,
   "id": "a7d57213-9115-4c48-b508-0aa73b2a48dd",
   "metadata": {},
   "outputs": [],
   "source": [
    "years=[heading.find('span',class_='subtle start-year').string[1:-1] for heading in headings]"
   ]
  },
  {
   "cell_type": "code",
   "execution_count": 31,
   "id": "d2d2d423-ade7-4ce6-be6d-9962f3f943cd",
   "metadata": {},
   "outputs": [
    {
     "data": {
      "text/plain": [
       "2008"
      ]
     },
     "execution_count": 31,
     "metadata": {},
     "output_type": "execute_result"
    }
   ],
   "source": [
    "years[1]"
   ]
  },
  {
   "cell_type": "code",
   "execution_count": 35,
   "id": "fb6d8d60-ef5e-49d7-b131-70f1e0d14a3c",
   "metadata": {},
   "outputs": [
    {
     "data": {
      "text/plain": [
       "'98%'"
      ]
     },
     "execution_count": 35,
     "metadata": {},
     "output_type": "execute_result"
    }
   ],
   "source": [
    "rating=[heading.find('span',class_='tMeterScore').text for heading in headings]\n",
    "rating[1]"
   ]
  },
  {
   "cell_type": "code",
   "execution_count": 39,
   "id": "4090b3a1-a0e4-460f-8f01-ead1f0c5b3d1",
   "metadata": {},
   "outputs": [],
   "source": [
    "rating=[rate.strip('%') for rate in rating]"
   ]
  },
  {
   "cell_type": "code",
   "execution_count": 41,
   "id": "5a460143-0839-4701-a399-829e538925bb",
   "metadata": {},
   "outputs": [
    {
     "data": {
      "text/plain": [
       "'98'"
      ]
     },
     "execution_count": 41,
     "metadata": {},
     "output_type": "execute_result"
    }
   ],
   "source": [
    "rating[1]"
   ]
  },
  {
   "cell_type": "code",
   "execution_count": 43,
   "id": "18423cf5-1eb2-4f40-8168-9426003a845a",
   "metadata": {},
   "outputs": [],
   "source": [
    "rating=[int(rate) for rate in rating]"
   ]
  },
  {
   "cell_type": "code",
   "execution_count": 43,
   "id": "011565c5-06a3-42f4-b79a-39d65a26f3b3",
   "metadata": {},
   "outputs": [
    {
     "data": {
      "text/plain": [
       "'98'"
      ]
     },
     "execution_count": 43,
     "metadata": {},
     "output_type": "execute_result"
    }
   ],
   "source": [
    "rating[1]"
   ]
  },
  {
   "cell_type": "code",
   "execution_count": 47,
   "id": "a6c01078-f2aa-465c-9cfb-0f4b756f67ca",
   "metadata": {},
   "outputs": [],
   "source": [
    "directors=[div.find('div',class_='info director') for div in divs]"
   ]
  },
  {
   "cell_type": "code",
   "execution_count": 49,
   "id": "61cce86b-fb91-4069-b5ca-e0154b7e0d5b",
   "metadata": {},
   "outputs": [
    {
     "data": {
      "text/plain": [
       "<div class=\"info director\">\n",
       "<span class=\"descriptor\">Directed By:</span> <a class=\"\" href=\"//www.rottentomatoes.com/celebrity/steve_spielberg\">Steven Spielberg</a></div>"
      ]
     },
     "execution_count": 49,
     "metadata": {},
     "output_type": "execute_result"
    }
   ],
   "source": [
    "directors[0]"
   ]
  },
  {
   "cell_type": "code",
   "execution_count": 51,
   "id": "b3bfcea5-1b43-4965-8a61-df039aa7558f",
   "metadata": {},
   "outputs": [],
   "source": [
    "directors=[director.find('a').text for director in directors]"
   ]
  },
  {
   "cell_type": "code",
   "execution_count": 53,
   "id": "ef470950-07dd-44a7-b73f-084ea2aa760e",
   "metadata": {},
   "outputs": [
    {
     "data": {
      "text/plain": [
       "'Tomas Alfredson'"
      ]
     },
     "execution_count": 53,
     "metadata": {},
     "output_type": "execute_result"
    }
   ],
   "source": [
    "directors[1]"
   ]
  },
  {
   "cell_type": "code",
   "execution_count": 122,
   "id": "84c86664-8aa0-4ce5-9a09-66b7ac03dc83",
   "metadata": {},
   "outputs": [],
   "source": [
    "import pandas as pd"
   ]
  },
  {
   "cell_type": "code",
   "execution_count": 124,
   "id": "f24d0fd4-d058-4c33-ab82-a5846c8fe3df",
   "metadata": {},
   "outputs": [],
   "source": [
    "movies_info=pd.DataFrame()"
   ]
  },
  {
   "cell_type": "code",
   "execution_count": 55,
   "id": "23b6bb5d-5e6c-4f63-a50d-595d6d1d49c1",
   "metadata": {},
   "outputs": [
    {
     "ename": "NameError",
     "evalue": "name 'movies_info' is not defined",
     "output_type": "error",
     "traceback": [
      "\u001b[1;31m---------------------------------------------------------------------------\u001b[0m",
      "\u001b[1;31mNameError\u001b[0m                                 Traceback (most recent call last)",
      "Cell \u001b[1;32mIn[55], line 1\u001b[0m\n\u001b[1;32m----> 1\u001b[0m movies_info[\u001b[38;5;124m'\u001b[39m\u001b[38;5;124mTitle\u001b[39m\u001b[38;5;124m'\u001b[39m]\u001b[38;5;241m=\u001b[39mmovie_names\n\u001b[0;32m      2\u001b[0m movies_info[\u001b[38;5;124m'\u001b[39m\u001b[38;5;124mYears\u001b[39m\u001b[38;5;124m'\u001b[39m]\u001b[38;5;241m=\u001b[39myears\n\u001b[0;32m      3\u001b[0m movies_info[\u001b[38;5;124m'\u001b[39m\u001b[38;5;124mRatings\u001b[39m\u001b[38;5;124m'\u001b[39m]\u001b[38;5;241m=\u001b[39mrating\n",
      "\u001b[1;31mNameError\u001b[0m: name 'movies_info' is not defined"
     ]
    }
   ],
   "source": [
    "movies_info['Title']=movie_names\n",
    "movies_info['Years']=years\n",
    "movies_info['Ratings']=rating\n",
    "movies_info['Directors']=directors\n",
    "movies_info['Genre']='Horror'"
   ]
  },
  {
   "cell_type": "code",
   "execution_count": 140,
   "id": "d808f612-5b8e-47fe-ae33-9da62d0e071d",
   "metadata": {},
   "outputs": [
    {
     "data": {
      "text/html": [
       "<div>\n",
       "<style scoped>\n",
       "    .dataframe tbody tr th:only-of-type {\n",
       "        vertical-align: middle;\n",
       "    }\n",
       "\n",
       "    .dataframe tbody tr th {\n",
       "        vertical-align: top;\n",
       "    }\n",
       "\n",
       "    .dataframe thead th {\n",
       "        text-align: right;\n",
       "    }\n",
       "</style>\n",
       "<table border=\"1\" class=\"dataframe\">\n",
       "  <thead>\n",
       "    <tr style=\"text-align: right;\">\n",
       "      <th></th>\n",
       "      <th>Title</th>\n",
       "      <th>Years</th>\n",
       "      <th>Ratings</th>\n",
       "      <th>Directors</th>\n",
       "      <th>Casting</th>\n",
       "      <th>Genre</th>\n",
       "    </tr>\n",
       "  </thead>\n",
       "  <tbody>\n",
       "    <tr>\n",
       "      <th>0</th>\n",
       "      <td>Jaws</td>\n",
       "      <td>1975</td>\n",
       "      <td>97</td>\n",
       "      <td>Steven Spielberg</td>\n",
       "      <td>Roy Scheider,Robert Shaw,Richard Dreyfuss,Lorr...</td>\n",
       "      <td>Horror</td>\n",
       "    </tr>\n",
       "    <tr>\n",
       "      <th>1</th>\n",
       "      <td>Let the Right One In</td>\n",
       "      <td>2008</td>\n",
       "      <td>98</td>\n",
       "      <td>Tomas Alfredson</td>\n",
       "      <td>Kåre Hedebrant,Lina Leandersson,Per Ragnar,Hen...</td>\n",
       "      <td>Horror</td>\n",
       "    </tr>\n",
       "    <tr>\n",
       "      <th>2</th>\n",
       "      <td>Alien</td>\n",
       "      <td>1979</td>\n",
       "      <td>93</td>\n",
       "      <td>Ridley Scott</td>\n",
       "      <td>Tom Skerritt,Sigourney Weaver,John Hurt,Veroni...</td>\n",
       "      <td>Horror</td>\n",
       "    </tr>\n",
       "    <tr>\n",
       "      <th>3</th>\n",
       "      <td>Get Out</td>\n",
       "      <td>2017</td>\n",
       "      <td>98</td>\n",
       "      <td>Jordan Peele</td>\n",
       "      <td>Daniel Kaluuya,Allison Williams,Catherine Keen...</td>\n",
       "      <td>Horror</td>\n",
       "    </tr>\n",
       "    <tr>\n",
       "      <th>4</th>\n",
       "      <td>Psycho</td>\n",
       "      <td>1960</td>\n",
       "      <td>97</td>\n",
       "      <td>Alfred Hitchcock</td>\n",
       "      <td>Anthony Perkins,Janet Leigh,Vera Miles,John Gavin</td>\n",
       "      <td>Horror</td>\n",
       "    </tr>\n",
       "  </tbody>\n",
       "</table>\n",
       "</div>"
      ],
      "text/plain": [
       "                  Title  Years  Ratings         Directors  \\\n",
       "0                  Jaws   1975       97  Steven Spielberg   \n",
       "1  Let the Right One In   2008       98   Tomas Alfredson   \n",
       "2                 Alien   1979       93      Ridley Scott   \n",
       "3               Get Out   2017       98      Jordan Peele   \n",
       "4                Psycho   1960       97  Alfred Hitchcock   \n",
       "\n",
       "                                             Casting   Genre  \n",
       "0  Roy Scheider,Robert Shaw,Richard Dreyfuss,Lorr...  Horror  \n",
       "1  Kåre Hedebrant,Lina Leandersson,Per Ragnar,Hen...  Horror  \n",
       "2  Tom Skerritt,Sigourney Weaver,John Hurt,Veroni...  Horror  \n",
       "3  Daniel Kaluuya,Allison Williams,Catherine Keen...  Horror  \n",
       "4  Anthony Perkins,Janet Leigh,Vera Miles,John Gavin  Horror  "
      ]
     },
     "execution_count": 140,
     "metadata": {},
     "output_type": "execute_result"
    }
   ],
   "source": [
    "movies_info.head()"
   ]
  },
  {
   "cell_type": "code",
   "execution_count": 142,
   "id": "dd6102a8-d878-4b22-abbf-8c1ec8d0b4c0",
   "metadata": {},
   "outputs": [
    {
     "data": {
      "text/plain": [
       "(200, 6)"
      ]
     },
     "execution_count": 142,
     "metadata": {},
     "output_type": "execute_result"
    }
   ],
   "source": [
    "movies_info.shape"
   ]
  },
  {
   "cell_type": "code",
   "execution_count": 154,
   "id": "f51d1657-fa4d-450e-88b7-9e315d19e71c",
   "metadata": {},
   "outputs": [],
   "source": [
    "movies_info.to_csv('movies_info.csv',index=False,header=True)"
   ]
  },
  {
   "cell_type": "code",
   "execution_count": 156,
   "id": "3edfd563-cedb-4bf0-9fed-1eac7638094a",
   "metadata": {},
   "outputs": [],
   "source": [
    "data=pd.read_csv('movies_info.csv')"
   ]
  },
  {
   "cell_type": "code",
   "execution_count": 160,
   "id": "c51300cf-d690-49dc-b87a-64f9a8356acc",
   "metadata": {},
   "outputs": [
    {
     "data": {
      "text/html": [
       "<div>\n",
       "<style scoped>\n",
       "    .dataframe tbody tr th:only-of-type {\n",
       "        vertical-align: middle;\n",
       "    }\n",
       "\n",
       "    .dataframe tbody tr th {\n",
       "        vertical-align: top;\n",
       "    }\n",
       "\n",
       "    .dataframe thead th {\n",
       "        text-align: right;\n",
       "    }\n",
       "</style>\n",
       "<table border=\"1\" class=\"dataframe\">\n",
       "  <thead>\n",
       "    <tr style=\"text-align: right;\">\n",
       "      <th></th>\n",
       "      <th>Title</th>\n",
       "      <th>Years</th>\n",
       "      <th>Ratings</th>\n",
       "      <th>Directors</th>\n",
       "      <th>Casting</th>\n",
       "      <th>Genre</th>\n",
       "    </tr>\n",
       "  </thead>\n",
       "  <tbody>\n",
       "    <tr>\n",
       "      <th>0</th>\n",
       "      <td>Jaws</td>\n",
       "      <td>1975</td>\n",
       "      <td>97</td>\n",
       "      <td>Steven Spielberg</td>\n",
       "      <td>Roy Scheider,Robert Shaw,Richard Dreyfuss,Lorr...</td>\n",
       "      <td>Horror</td>\n",
       "    </tr>\n",
       "    <tr>\n",
       "      <th>1</th>\n",
       "      <td>Let the Right One In</td>\n",
       "      <td>2008</td>\n",
       "      <td>98</td>\n",
       "      <td>Tomas Alfredson</td>\n",
       "      <td>Kåre Hedebrant,Lina Leandersson,Per Ragnar,Hen...</td>\n",
       "      <td>Horror</td>\n",
       "    </tr>\n",
       "    <tr>\n",
       "      <th>2</th>\n",
       "      <td>Alien</td>\n",
       "      <td>1979</td>\n",
       "      <td>93</td>\n",
       "      <td>Ridley Scott</td>\n",
       "      <td>Tom Skerritt,Sigourney Weaver,John Hurt,Veroni...</td>\n",
       "      <td>Horror</td>\n",
       "    </tr>\n",
       "    <tr>\n",
       "      <th>3</th>\n",
       "      <td>Get Out</td>\n",
       "      <td>2017</td>\n",
       "      <td>98</td>\n",
       "      <td>Jordan Peele</td>\n",
       "      <td>Daniel Kaluuya,Allison Williams,Catherine Keen...</td>\n",
       "      <td>Horror</td>\n",
       "    </tr>\n",
       "    <tr>\n",
       "      <th>4</th>\n",
       "      <td>Psycho</td>\n",
       "      <td>1960</td>\n",
       "      <td>97</td>\n",
       "      <td>Alfred Hitchcock</td>\n",
       "      <td>Anthony Perkins,Janet Leigh,Vera Miles,John Gavin</td>\n",
       "      <td>Horror</td>\n",
       "    </tr>\n",
       "    <tr>\n",
       "      <th>5</th>\n",
       "      <td>The Silence of the Lambs</td>\n",
       "      <td>1991</td>\n",
       "      <td>95</td>\n",
       "      <td>Jonathan Demme</td>\n",
       "      <td>Jodie Foster,Anthony Hopkins,Scott Glenn,Ted L...</td>\n",
       "      <td>Horror</td>\n",
       "    </tr>\n",
       "    <tr>\n",
       "      <th>6</th>\n",
       "      <td>One Cut of the Dead</td>\n",
       "      <td>2017</td>\n",
       "      <td>100</td>\n",
       "      <td>Shinichiro Ueda</td>\n",
       "      <td>Takayuki Hamatsu,Yuzuki Akiyama,Harumi Shuhama...</td>\n",
       "      <td>Horror</td>\n",
       "    </tr>\n",
       "    <tr>\n",
       "      <th>7</th>\n",
       "      <td>King Kong</td>\n",
       "      <td>1933</td>\n",
       "      <td>97</td>\n",
       "      <td>Merian C. Cooper</td>\n",
       "      <td>Fay Wray,Bruce Cabot,Robert Armstrong,Frank Re...</td>\n",
       "      <td>Horror</td>\n",
       "    </tr>\n",
       "    <tr>\n",
       "      <th>8</th>\n",
       "      <td>Aliens</td>\n",
       "      <td>1986</td>\n",
       "      <td>94</td>\n",
       "      <td>James Cameron</td>\n",
       "      <td>Sigourney Weaver,Carrie Henn,Michael Biehn,Pau...</td>\n",
       "      <td>Horror</td>\n",
       "    </tr>\n",
       "    <tr>\n",
       "      <th>9</th>\n",
       "      <td>A Quiet Place</td>\n",
       "      <td>2018</td>\n",
       "      <td>96</td>\n",
       "      <td>John Krasinski</td>\n",
       "      <td>Emily Blunt,John Krasinski,Millicent Simmonds,...</td>\n",
       "      <td>Horror</td>\n",
       "    </tr>\n",
       "  </tbody>\n",
       "</table>\n",
       "</div>"
      ],
      "text/plain": [
       "                      Title  Years  Ratings         Directors  \\\n",
       "0                      Jaws   1975       97  Steven Spielberg   \n",
       "1      Let the Right One In   2008       98   Tomas Alfredson   \n",
       "2                     Alien   1979       93      Ridley Scott   \n",
       "3                   Get Out   2017       98      Jordan Peele   \n",
       "4                    Psycho   1960       97  Alfred Hitchcock   \n",
       "5  The Silence of the Lambs   1991       95    Jonathan Demme   \n",
       "6       One Cut of the Dead   2017      100   Shinichiro Ueda   \n",
       "7                 King Kong   1933       97  Merian C. Cooper   \n",
       "8                    Aliens   1986       94     James Cameron   \n",
       "9             A Quiet Place   2018       96    John Krasinski   \n",
       "\n",
       "                                             Casting   Genre  \n",
       "0  Roy Scheider,Robert Shaw,Richard Dreyfuss,Lorr...  Horror  \n",
       "1  Kåre Hedebrant,Lina Leandersson,Per Ragnar,Hen...  Horror  \n",
       "2  Tom Skerritt,Sigourney Weaver,John Hurt,Veroni...  Horror  \n",
       "3  Daniel Kaluuya,Allison Williams,Catherine Keen...  Horror  \n",
       "4  Anthony Perkins,Janet Leigh,Vera Miles,John Gavin  Horror  \n",
       "5  Jodie Foster,Anthony Hopkins,Scott Glenn,Ted L...  Horror  \n",
       "6  Takayuki Hamatsu,Yuzuki Akiyama,Harumi Shuhama...  Horror  \n",
       "7  Fay Wray,Bruce Cabot,Robert Armstrong,Frank Re...  Horror  \n",
       "8  Sigourney Weaver,Carrie Henn,Michael Biehn,Pau...  Horror  \n",
       "9  Emily Blunt,John Krasinski,Millicent Simmonds,...  Horror  "
      ]
     },
     "execution_count": 160,
     "metadata": {},
     "output_type": "execute_result"
    }
   ],
   "source": [
    "data.head(10)"
   ]
  },
  {
   "cell_type": "code",
   "execution_count": null,
   "id": "b9747151-4607-48b0-b9bb-7978c7b75644",
   "metadata": {},
   "outputs": [],
   "source": []
  }
 ],
 "metadata": {
  "kernelspec": {
   "display_name": "Python 3 (ipykernel)",
   "language": "python",
   "name": "python3"
  },
  "language_info": {
   "codemirror_mode": {
    "name": "ipython",
    "version": 3
   },
   "file_extension": ".py",
   "mimetype": "text/x-python",
   "name": "python",
   "nbconvert_exporter": "python",
   "pygments_lexer": "ipython3",
   "version": "3.12.4"
  }
 },
 "nbformat": 4,
 "nbformat_minor": 5
}
