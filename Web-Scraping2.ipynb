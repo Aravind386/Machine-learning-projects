{
 "cells": [
  {
   "cell_type": "code",
   "execution_count": 1,
   "id": "ab7e3234-6225-4308-9e4f-1f418c5c07a7",
   "metadata": {},
   "outputs": [],
   "source": [
    "import requests\n",
    "from bs4 import BeautifulSoup\n",
    "import pandas as pd"
   ]
  },
  {
   "cell_type": "code",
   "execution_count": 2,
   "id": "c3c877ed-d259-48ea-850f-1b8423b05538",
   "metadata": {},
   "outputs": [],
   "source": [
    "url=\"https://www.flipkart.com/search?q=mobile+5g&sid=tyy%2C4io&as=on&as-show=on&otracker=AS_QueryStore_OrganicAutoSuggest_1_2_na_na_na&otracker1=AS_QueryStore_OrganicAutoSuggest_1_2_na_na_na&as-pos=1&as-type=RECENT&suggestionId=mobile+5g%7CMobiles&requestId=cc922b63-9981-43c4-9b2f-4a6dcf0fdff9&as-searchtext=mobile%205g\""
   ]
  },
  {
   "cell_type": "code",
   "execution_count": 3,
   "id": "5141fe66-08cf-467f-b559-ddab507b720d",
   "metadata": {},
   "outputs": [],
   "source": [
    "response=requests.get(url)"
   ]
  },
  {
   "cell_type": "code",
   "execution_count": 4,
   "id": "0263b74e-b0d4-44be-addc-bc3efd15180e",
   "metadata": {},
   "outputs": [
    {
     "data": {
      "text/plain": [
       "200"
      ]
     },
     "execution_count": 4,
     "metadata": {},
     "output_type": "execute_result"
    }
   ],
   "source": [
    "response.status_code"
   ]
  },
  {
   "cell_type": "code",
   "execution_count": 5,
   "id": "ea186b86-9565-4bca-a637-a02055b4984d",
   "metadata": {},
   "outputs": [],
   "source": [
    "soup=BeautifulSoup(response.content,'html.parser') #'lxml'"
   ]
  },
  {
   "cell_type": "code",
   "execution_count": 6,
   "id": "1cc53e83-8b66-416e-8cfe-6ffee3cc67cb",
   "metadata": {},
   "outputs": [
    {
     "data": {
      "text/plain": [
       "'Apple iPhone 15 (Black, 128 GB)'"
      ]
     },
     "execution_count": 6,
     "metadata": {},
     "output_type": "execute_result"
    }
   ],
   "source": [
    "titles=soup.find_all('div',class_='KzDlHZ')\n",
    "titles[2].text"
   ]
  },
  {
   "cell_type": "code",
   "execution_count": 7,
   "id": "0af62a5a-595d-4c22-aec0-ccd7346661fc",
   "metadata": {},
   "outputs": [],
   "source": [
    "rating=soup.find_all('div',class_='XQDdHH')"
   ]
  },
  {
   "cell_type": "code",
   "execution_count": 8,
   "id": "49e8c0ef-df50-44fa-94d5-7c05a7d03f83",
   "metadata": {},
   "outputs": [
    {
     "data": {
      "text/plain": [
       "'4.6'"
      ]
     },
     "execution_count": 8,
     "metadata": {},
     "output_type": "execute_result"
    }
   ],
   "source": [
    "rating[2].text"
   ]
  },
  {
   "cell_type": "code",
   "execution_count": 9,
   "id": "a7e652cc-7360-4f35-9af6-6310778b7783",
   "metadata": {},
   "outputs": [],
   "source": [
    "reviews=soup.find_all('span',class_='Wphh3N')"
   ]
  },
  {
   "cell_type": "code",
   "execution_count": 10,
   "id": "dea66a33-9b7d-4256-a92b-21c2ff4f9f6a",
   "metadata": {},
   "outputs": [
    {
     "data": {
      "text/plain": [
       "'2,30,906 Ratings\\xa0&\\xa08,294 Reviews'"
      ]
     },
     "execution_count": 10,
     "metadata": {},
     "output_type": "execute_result"
    }
   ],
   "source": [
    "reviews[2].text"
   ]
  },
  {
   "cell_type": "code",
   "execution_count": 11,
   "id": "6aa60a92-e157-4e50-9e93-6a4f2ee36ced",
   "metadata": {},
   "outputs": [],
   "source": [
    "prices=soup.find_all('div',class_=\"Nx9bqj _4b5DiR\")"
   ]
  },
  {
   "cell_type": "code",
   "execution_count": 12,
   "id": "36b6651e-78cc-40af-923e-942aea82293a",
   "metadata": {},
   "outputs": [
    {
     "data": {
      "text/plain": [
       "'₹59,999'"
      ]
     },
     "execution_count": 12,
     "metadata": {},
     "output_type": "execute_result"
    }
   ],
   "source": [
    "prices[2].text"
   ]
  },
  {
   "cell_type": "code",
   "execution_count": 13,
   "id": "36c77f7b-7a11-4c07-a772-8b99270562dc",
   "metadata": {},
   "outputs": [],
   "source": [
    "mt=[]\n",
    "mra=[]\n",
    "mre=[]\n",
    "mp=[]"
   ]
  },
  {
   "cell_type": "code",
   "execution_count": 14,
   "id": "1f653fbf-2783-44df-ab93-6ef39d4f99a9",
   "metadata": {},
   "outputs": [
    {
     "name": "stdout",
     "output_type": "stream",
     "text": [
      "['SAMSUNG Galaxy A14 5G (Dark Red, 128 GB)', 'SAMSUNG Galaxy A14 5G (Light Green, 128 GB)', 'Apple iPhone 15 (Black, 128 GB)', 'Apple iPhone 15 (Green, 128 GB)', 'POCO M7 Pro 5G (Olive Twilight, 128 GB)', 'POCO M7 Pro 5G (Lunar Dust, 256 GB)', 'Apple iPhone 15 Plus (Black, 128 GB)', 'POCO M6 5G (Orion Blue, 64 GB)', 'Motorola G85 5G (Olive Green, 128 GB)', 'Apple iPhone 15 Plus (Green, 128 GB)', 'SAMSUNG Galaxy A14 5G (Black, 128 GB)', 'Infinix GT 20 Pro (Mecha Silver, 256 GB)', 'SAMSUNG Galaxy S23 5G (Cream, 256 GB)', 'vivo T3 Lite 5G (Majestic Black, 128 GB)', 'Motorola G85 5G (Cobalt Blue, 128 GB)', 'REDMI 13C 5G (Starlight Black, 128 GB)', 'Infinix Note 40X 5G (Palm Blue, 256 GB)', 'SAMSUNG Galaxy S23 5G (Cream, 128 GB)', 'Motorola Edge 50 Fusion (Marshmallow Blue, 256 GB)', 'vivo T3 Lite 5G (Majestic Black, 128 GB)', 'POCO M6 Plus 5G (Ice Silver, 128 GB)', 'Infinix Note 40 Pro 5G (Gold, 256 GB)', 'OPPO K12x 5G with 45W SUPERVOOC Charger In-The-Box (Feather Pink, 128 GB)', 'Apple iPhone 15 Plus (Pink, 128 GB)']\n"
     ]
    }
   ],
   "source": [
    "for title,rat,rev,pri in zip(titles,rating,reviews,prices):\n",
    "    mt.append(title.text)\n",
    "    mra.append(rat.text)\n",
    "    mre.append(rev.text)\n",
    "    mp.append(pri.text)\n",
    "print(mt)"
   ]
  },
  {
   "cell_type": "code",
   "execution_count": 15,
   "id": "c0c83c24-7b96-432e-84a1-ed3e8d72b5bb",
   "metadata": {},
   "outputs": [],
   "source": [
    "dataset=pd.DataFrame()\n",
    "dataset['Titles']=mt\n",
    "dataset['Rating']=mra\n",
    "dataset['Reviews']=mre\n",
    "dataset['prices']=mp"
   ]
  },
  {
   "cell_type": "code",
   "execution_count": 16,
   "id": "d272d186-e178-4892-bb22-0cedeeeb9c42",
   "metadata": {},
   "outputs": [
    {
     "data": {
      "text/html": [
       "<div>\n",
       "<style scoped>\n",
       "    .dataframe tbody tr th:only-of-type {\n",
       "        vertical-align: middle;\n",
       "    }\n",
       "\n",
       "    .dataframe tbody tr th {\n",
       "        vertical-align: top;\n",
       "    }\n",
       "\n",
       "    .dataframe thead th {\n",
       "        text-align: right;\n",
       "    }\n",
       "</style>\n",
       "<table border=\"1\" class=\"dataframe\">\n",
       "  <thead>\n",
       "    <tr style=\"text-align: right;\">\n",
       "      <th></th>\n",
       "      <th>Titles</th>\n",
       "      <th>Rating</th>\n",
       "      <th>Reviews</th>\n",
       "      <th>prices</th>\n",
       "    </tr>\n",
       "  </thead>\n",
       "  <tbody>\n",
       "    <tr>\n",
       "      <th>0</th>\n",
       "      <td>SAMSUNG Galaxy A14 5G (Dark Red, 128 GB)</td>\n",
       "      <td>4.2</td>\n",
       "      <td>63,583 Ratings &amp; 3,046 Reviews</td>\n",
       "      <td>₹10,999</td>\n",
       "    </tr>\n",
       "    <tr>\n",
       "      <th>1</th>\n",
       "      <td>SAMSUNG Galaxy A14 5G (Light Green, 128 GB)</td>\n",
       "      <td>4.2</td>\n",
       "      <td>63,583 Ratings &amp; 3,046 Reviews</td>\n",
       "      <td>₹10,999</td>\n",
       "    </tr>\n",
       "    <tr>\n",
       "      <th>2</th>\n",
       "      <td>Apple iPhone 15 (Black, 128 GB)</td>\n",
       "      <td>4.6</td>\n",
       "      <td>2,30,906 Ratings &amp; 8,294 Reviews</td>\n",
       "      <td>₹59,999</td>\n",
       "    </tr>\n",
       "    <tr>\n",
       "      <th>3</th>\n",
       "      <td>Apple iPhone 15 (Green, 128 GB)</td>\n",
       "      <td>4.6</td>\n",
       "      <td>2,30,906 Ratings &amp; 8,294 Reviews</td>\n",
       "      <td>₹58,999</td>\n",
       "    </tr>\n",
       "    <tr>\n",
       "      <th>4</th>\n",
       "      <td>POCO M7 Pro 5G (Olive Twilight, 128 GB)</td>\n",
       "      <td>4.4</td>\n",
       "      <td>407 Ratings &amp; 121 Reviews</td>\n",
       "      <td>₹14,999</td>\n",
       "    </tr>\n",
       "  </tbody>\n",
       "</table>\n",
       "</div>"
      ],
      "text/plain": [
       "                                        Titles Rating  \\\n",
       "0     SAMSUNG Galaxy A14 5G (Dark Red, 128 GB)    4.2   \n",
       "1  SAMSUNG Galaxy A14 5G (Light Green, 128 GB)    4.2   \n",
       "2              Apple iPhone 15 (Black, 128 GB)    4.6   \n",
       "3              Apple iPhone 15 (Green, 128 GB)    4.6   \n",
       "4      POCO M7 Pro 5G (Olive Twilight, 128 GB)    4.4   \n",
       "\n",
       "                            Reviews   prices  \n",
       "0    63,583 Ratings & 3,046 Reviews  ₹10,999  \n",
       "1    63,583 Ratings & 3,046 Reviews  ₹10,999  \n",
       "2  2,30,906 Ratings & 8,294 Reviews  ₹59,999  \n",
       "3  2,30,906 Ratings & 8,294 Reviews  ₹58,999  \n",
       "4         407 Ratings & 121 Reviews  ₹14,999  "
      ]
     },
     "execution_count": 16,
     "metadata": {},
     "output_type": "execute_result"
    }
   ],
   "source": [
    "dataset.head()"
   ]
  },
  {
   "cell_type": "code",
   "execution_count": 17,
   "id": "048fb8e4-30a8-41ac-aa7c-3fdaa8e08368",
   "metadata": {},
   "outputs": [],
   "source": [
    "dataset.to_csv('mobiles_info.csv')"
   ]
  },
  {
   "cell_type": "code",
   "execution_count": 18,
   "id": "438651ea-ffee-464a-9fa1-6f23a9c06296",
   "metadata": {},
   "outputs": [],
   "source": [
    "df=pd.read_csv('mobiles_info.csv')"
   ]
  },
  {
   "cell_type": "code",
   "execution_count": 19,
   "id": "e993fc8e-c809-48ed-9da2-85c89ac34873",
   "metadata": {},
   "outputs": [
    {
     "data": {
      "text/html": [
       "<div>\n",
       "<style scoped>\n",
       "    .dataframe tbody tr th:only-of-type {\n",
       "        vertical-align: middle;\n",
       "    }\n",
       "\n",
       "    .dataframe tbody tr th {\n",
       "        vertical-align: top;\n",
       "    }\n",
       "\n",
       "    .dataframe thead th {\n",
       "        text-align: right;\n",
       "    }\n",
       "</style>\n",
       "<table border=\"1\" class=\"dataframe\">\n",
       "  <thead>\n",
       "    <tr style=\"text-align: right;\">\n",
       "      <th></th>\n",
       "      <th>Unnamed: 0</th>\n",
       "      <th>Titles</th>\n",
       "      <th>Rating</th>\n",
       "      <th>Reviews</th>\n",
       "      <th>prices</th>\n",
       "    </tr>\n",
       "  </thead>\n",
       "  <tbody>\n",
       "    <tr>\n",
       "      <th>0</th>\n",
       "      <td>0</td>\n",
       "      <td>SAMSUNG Galaxy A14 5G (Dark Red, 128 GB)</td>\n",
       "      <td>4.2</td>\n",
       "      <td>63,583 Ratings &amp; 3,046 Reviews</td>\n",
       "      <td>₹10,999</td>\n",
       "    </tr>\n",
       "    <tr>\n",
       "      <th>1</th>\n",
       "      <td>1</td>\n",
       "      <td>SAMSUNG Galaxy A14 5G (Light Green, 128 GB)</td>\n",
       "      <td>4.2</td>\n",
       "      <td>63,583 Ratings &amp; 3,046 Reviews</td>\n",
       "      <td>₹10,999</td>\n",
       "    </tr>\n",
       "    <tr>\n",
       "      <th>2</th>\n",
       "      <td>2</td>\n",
       "      <td>Apple iPhone 15 (Black, 128 GB)</td>\n",
       "      <td>4.6</td>\n",
       "      <td>2,30,906 Ratings &amp; 8,294 Reviews</td>\n",
       "      <td>₹59,999</td>\n",
       "    </tr>\n",
       "    <tr>\n",
       "      <th>3</th>\n",
       "      <td>3</td>\n",
       "      <td>Apple iPhone 15 (Green, 128 GB)</td>\n",
       "      <td>4.6</td>\n",
       "      <td>2,30,906 Ratings &amp; 8,294 Reviews</td>\n",
       "      <td>₹58,999</td>\n",
       "    </tr>\n",
       "    <tr>\n",
       "      <th>4</th>\n",
       "      <td>4</td>\n",
       "      <td>POCO M7 Pro 5G (Olive Twilight, 128 GB)</td>\n",
       "      <td>4.4</td>\n",
       "      <td>407 Ratings &amp; 121 Reviews</td>\n",
       "      <td>₹14,999</td>\n",
       "    </tr>\n",
       "  </tbody>\n",
       "</table>\n",
       "</div>"
      ],
      "text/plain": [
       "   Unnamed: 0                                       Titles  Rating  \\\n",
       "0           0     SAMSUNG Galaxy A14 5G (Dark Red, 128 GB)     4.2   \n",
       "1           1  SAMSUNG Galaxy A14 5G (Light Green, 128 GB)     4.2   \n",
       "2           2              Apple iPhone 15 (Black, 128 GB)     4.6   \n",
       "3           3              Apple iPhone 15 (Green, 128 GB)     4.6   \n",
       "4           4      POCO M7 Pro 5G (Olive Twilight, 128 GB)     4.4   \n",
       "\n",
       "                            Reviews   prices  \n",
       "0    63,583 Ratings & 3,046 Reviews  ₹10,999  \n",
       "1    63,583 Ratings & 3,046 Reviews  ₹10,999  \n",
       "2  2,30,906 Ratings & 8,294 Reviews  ₹59,999  \n",
       "3  2,30,906 Ratings & 8,294 Reviews  ₹58,999  \n",
       "4         407 Ratings & 121 Reviews  ₹14,999  "
      ]
     },
     "execution_count": 19,
     "metadata": {},
     "output_type": "execute_result"
    }
   ],
   "source": [
    "df.head()"
   ]
  },
  {
   "cell_type": "markdown",
   "id": "656f2f64-68bf-4e90-8f35-52cc939ffae0",
   "metadata": {},
   "source": [
    "# dataset 2\n"
   ]
  },
  {
   "cell_type": "code",
   "execution_count": 21,
   "id": "c03d92dd-98f3-4e5f-9bd7-6c4a8ea7bfe6",
   "metadata": {},
   "outputs": [],
   "source": [
    "import requests\n",
    "from bs4 import BeautifulSoup"
   ]
  },
  {
   "cell_type": "code",
   "execution_count": 22,
   "id": "ecd5975d-4d29-4669-ab1f-53a81f18e3d0",
   "metadata": {},
   "outputs": [],
   "source": [
    "url=\"https://quotes.toscrape.com/\""
   ]
  },
  {
   "cell_type": "code",
   "execution_count": 23,
   "id": "e52f68d0-5fd7-43b0-8e75-f0fdbb54d473",
   "metadata": {},
   "outputs": [
    {
     "data": {
      "text/plain": [
       "200"
      ]
     },
     "execution_count": 23,
     "metadata": {},
     "output_type": "execute_result"
    }
   ],
   "source": [
    "response=requests.get(url)\n",
    "response.status_code"
   ]
  },
  {
   "cell_type": "code",
   "execution_count": 24,
   "id": "e7c12384-60c5-421f-9c80-7c2e6a694597",
   "metadata": {},
   "outputs": [],
   "source": [
    "soup=BeautifulSoup(response.content,'html.parser')"
   ]
  },
  {
   "cell_type": "code",
   "execution_count": 25,
   "id": "f489cff7-30eb-495f-908a-0f3ebe58931a",
   "metadata": {},
   "outputs": [
    {
     "data": {
      "text/plain": [
       "'“It is our choices, Harry, that show what we truly are, far more than our abilities.”'"
      ]
     },
     "execution_count": 25,
     "metadata": {},
     "output_type": "execute_result"
    }
   ],
   "source": [
    "quotes=soup.find_all('span',class_='text')\n",
    "quotes[1].text"
   ]
  },
  {
   "cell_type": "code",
   "execution_count": 26,
   "id": "644b3147-1299-434d-bd95-c81ea29ceba4",
   "metadata": {},
   "outputs": [
    {
     "data": {
      "text/plain": [
       "'J.K. Rowling'"
      ]
     },
     "execution_count": 26,
     "metadata": {},
     "output_type": "execute_result"
    }
   ],
   "source": [
    "authors=soup.find_all('small',class_='author')\n",
    "authors[1].text"
   ]
  },
  {
   "cell_type": "code",
   "execution_count": 27,
   "id": "cde457c2-5e91-4cfb-a88a-2f8ab4e4297b",
   "metadata": {},
   "outputs": [
    {
     "data": {
      "text/plain": [
       "<div class=\"tags\">\n",
       "            Tags:\n",
       "            <meta class=\"keywords\" content=\"change,deep-thoughts,thinking,world\" itemprop=\"keywords\"/>\n",
       "<a class=\"tag\" href=\"/tag/change/page/1/\">change</a>\n",
       "<a class=\"tag\" href=\"/tag/deep-thoughts/page/1/\">deep-thoughts</a>\n",
       "<a class=\"tag\" href=\"/tag/thinking/page/1/\">thinking</a>\n",
       "<a class=\"tag\" href=\"/tag/world/page/1/\">world</a>\n",
       "</div>"
      ]
     },
     "execution_count": 27,
     "metadata": {},
     "output_type": "execute_result"
    }
   ],
   "source": [
    "tags=soup.find_all('div',class_='tags')\n",
    "tags[0]"
   ]
  },
  {
   "cell_type": "code",
   "execution_count": 28,
   "id": "762d2c6b-590d-42da-817a-a5dffb7041e1",
   "metadata": {},
   "outputs": [],
   "source": [
    "total_tags=[]\n",
    "for i in range(len(tags)):\n",
    "    k=[]\n",
    "    for j in tags[i].find_all('a',class_='tag'):\n",
    "        k.append(j.text)\n",
    "    total_tags.append(','.join(k))"
   ]
  },
  {
   "cell_type": "code",
   "execution_count": 29,
   "id": "18006124-54c8-4ffe-bf25-e47828261f19",
   "metadata": {},
   "outputs": [
    {
     "data": {
      "text/plain": [
       "'abilities,choices'"
      ]
     },
     "execution_count": 29,
     "metadata": {},
     "output_type": "execute_result"
    }
   ],
   "source": [
    "total_tags[1]"
   ]
  },
  {
   "cell_type": "code",
   "execution_count": 30,
   "id": "b71a798c-191e-429f-aeb5-70dd42cb9a48",
   "metadata": {},
   "outputs": [],
   "source": [
    "qt=[]\n",
    "qa=[]\n",
    "for quo,aut in zip(quotes,authors):\n",
    "    qt.append(quo.text)\n",
    "    qa.append(aut.text)"
   ]
  },
  {
   "cell_type": "code",
   "execution_count": 31,
   "id": "f90b4cc2-fc03-4ecb-862f-57e93c025fdd",
   "metadata": {},
   "outputs": [
    {
     "data": {
      "text/html": [
       "<div>\n",
       "<style scoped>\n",
       "    .dataframe tbody tr th:only-of-type {\n",
       "        vertical-align: middle;\n",
       "    }\n",
       "\n",
       "    .dataframe tbody tr th {\n",
       "        vertical-align: top;\n",
       "    }\n",
       "\n",
       "    .dataframe thead th {\n",
       "        text-align: right;\n",
       "    }\n",
       "</style>\n",
       "<table border=\"1\" class=\"dataframe\">\n",
       "  <thead>\n",
       "    <tr style=\"text-align: right;\">\n",
       "      <th></th>\n",
       "      <th>Quotes</th>\n",
       "      <th>Authors</th>\n",
       "      <th>Tags</th>\n",
       "    </tr>\n",
       "  </thead>\n",
       "  <tbody>\n",
       "    <tr>\n",
       "      <th>0</th>\n",
       "      <td>“The world as we have created it is a process ...</td>\n",
       "      <td>Albert Einstein</td>\n",
       "      <td>change,deep-thoughts,thinking,world</td>\n",
       "    </tr>\n",
       "    <tr>\n",
       "      <th>1</th>\n",
       "      <td>“It is our choices, Harry, that show what we t...</td>\n",
       "      <td>J.K. Rowling</td>\n",
       "      <td>abilities,choices</td>\n",
       "    </tr>\n",
       "    <tr>\n",
       "      <th>2</th>\n",
       "      <td>“There are only two ways to live your life. On...</td>\n",
       "      <td>Albert Einstein</td>\n",
       "      <td>inspirational,life,live,miracle,miracles</td>\n",
       "    </tr>\n",
       "    <tr>\n",
       "      <th>3</th>\n",
       "      <td>“The person, be it gentleman or lady, who has ...</td>\n",
       "      <td>Jane Austen</td>\n",
       "      <td>aliteracy,books,classic,humor</td>\n",
       "    </tr>\n",
       "    <tr>\n",
       "      <th>4</th>\n",
       "      <td>“Imperfection is beauty, madness is genius and...</td>\n",
       "      <td>Marilyn Monroe</td>\n",
       "      <td>be-yourself,inspirational</td>\n",
       "    </tr>\n",
       "    <tr>\n",
       "      <th>5</th>\n",
       "      <td>“Try not to become a man of success. Rather be...</td>\n",
       "      <td>Albert Einstein</td>\n",
       "      <td>adulthood,success,value</td>\n",
       "    </tr>\n",
       "    <tr>\n",
       "      <th>6</th>\n",
       "      <td>“It is better to be hated for what you are tha...</td>\n",
       "      <td>André Gide</td>\n",
       "      <td>life,love</td>\n",
       "    </tr>\n",
       "    <tr>\n",
       "      <th>7</th>\n",
       "      <td>“I have not failed. I've just found 10,000 way...</td>\n",
       "      <td>Thomas A. Edison</td>\n",
       "      <td>edison,failure,inspirational,paraphrased</td>\n",
       "    </tr>\n",
       "    <tr>\n",
       "      <th>8</th>\n",
       "      <td>“A woman is like a tea bag; you never know how...</td>\n",
       "      <td>Eleanor Roosevelt</td>\n",
       "      <td>misattributed-eleanor-roosevelt</td>\n",
       "    </tr>\n",
       "    <tr>\n",
       "      <th>9</th>\n",
       "      <td>“A day without sunshine is like, you know, nig...</td>\n",
       "      <td>Steve Martin</td>\n",
       "      <td>humor,obvious,simile</td>\n",
       "    </tr>\n",
       "  </tbody>\n",
       "</table>\n",
       "</div>"
      ],
      "text/plain": [
       "                                              Quotes            Authors  \\\n",
       "0  “The world as we have created it is a process ...    Albert Einstein   \n",
       "1  “It is our choices, Harry, that show what we t...       J.K. Rowling   \n",
       "2  “There are only two ways to live your life. On...    Albert Einstein   \n",
       "3  “The person, be it gentleman or lady, who has ...        Jane Austen   \n",
       "4  “Imperfection is beauty, madness is genius and...     Marilyn Monroe   \n",
       "5  “Try not to become a man of success. Rather be...    Albert Einstein   \n",
       "6  “It is better to be hated for what you are tha...         André Gide   \n",
       "7  “I have not failed. I've just found 10,000 way...   Thomas A. Edison   \n",
       "8  “A woman is like a tea bag; you never know how...  Eleanor Roosevelt   \n",
       "9  “A day without sunshine is like, you know, nig...       Steve Martin   \n",
       "\n",
       "                                       Tags  \n",
       "0       change,deep-thoughts,thinking,world  \n",
       "1                         abilities,choices  \n",
       "2  inspirational,life,live,miracle,miracles  \n",
       "3             aliteracy,books,classic,humor  \n",
       "4                 be-yourself,inspirational  \n",
       "5                   adulthood,success,value  \n",
       "6                                 life,love  \n",
       "7  edison,failure,inspirational,paraphrased  \n",
       "8           misattributed-eleanor-roosevelt  \n",
       "9                      humor,obvious,simile  "
      ]
     },
     "execution_count": 31,
     "metadata": {},
     "output_type": "execute_result"
    }
   ],
   "source": [
    "data=pd.DataFrame()\n",
    "data['Quotes']=qt\n",
    "data['Authors']=qa\n",
    "data['Tags']=total_tags\n",
    "data"
   ]
  },
  {
   "cell_type": "code",
   "execution_count": null,
   "id": "aebd426a-7a77-4524-af26-0999084b89a3",
   "metadata": {},
   "outputs": [],
   "source": []
  }
 ],
 "metadata": {
  "kernelspec": {
   "display_name": "Python 3 (ipykernel)",
   "language": "python",
   "name": "python3"
  },
  "language_info": {
   "codemirror_mode": {
    "name": "ipython",
    "version": 3
   },
   "file_extension": ".py",
   "mimetype": "text/x-python",
   "name": "python",
   "nbconvert_exporter": "python",
   "pygments_lexer": "ipython3",
   "version": "3.12.4"
  }
 },
 "nbformat": 4,
 "nbformat_minor": 5
}
